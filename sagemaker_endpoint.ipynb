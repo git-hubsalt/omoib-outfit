{
 "cells": [
  {
   "cell_type": "code",
   "execution_count": 1,
   "metadata": {},
   "outputs": [
    {
     "name": "stdout",
     "output_type": "stream",
     "text": [
      "sagemaker.config INFO - Not applying SDK defaults from location: C:\\ProgramData\\sagemaker\\sagemaker\\config.yaml\n",
      "sagemaker.config INFO - Not applying SDK defaults from location: C:\\Users\\hyunjo\\AppData\\Local\\sagemaker\\sagemaker\\config.yaml\n"
     ]
    }
   ],
   "source": [
    "import os\n",
    "import boto3\n",
    "from botocore.exceptions import ClientError\n",
    "import json\n",
    "import time\n",
    "import sagemaker\n",
    "from sagemaker.pytorch import PyTorchModel\n",
    "# from sagemaker.pytorch.model import PyTorchModel\n",
    "from sagemaker import Model"
   ]
  },
  {
   "cell_type": "code",
   "execution_count": null,
   "metadata": {},
   "outputs": [],
   "source": [
    "aws_access_key_id = '' # put your access key id\n",
    "aws_secret_access_key = '' # put your secret access key\n",
    "region_name = 'ap-northeast-2'\n",
    "role = 'arn:aws:iam::565393031158:role/sagemaker-oft-role'\n",
    "image_uri = '565393031158.dkr.ecr.ap-northeast-2.amazonaws.com/outfittransformer:latest'\n",
    "path_to_model = 's3://githubsalt-models/model.tar.gz'"
   ]
  },
  {
   "cell_type": "code",
   "execution_count": 3,
   "metadata": {},
   "outputs": [],
   "source": [
    "session = boto3.Session(\n",
    "    aws_access_key_id=aws_access_key_id,\n",
    "    aws_secret_access_key=aws_secret_access_key,\n",
    "    region_name=region_name\n",
    ")\n",
    "\n",
    "sagemaker_session = sagemaker.Session(boto_session=session)"
   ]
  },
  {
   "cell_type": "code",
   "execution_count": 4,
   "metadata": {},
   "outputs": [],
   "source": [
    "model = PyTorchModel(\n",
    "    image_uri = image_uri,\n",
    "    model_data = path_to_model,\n",
    "    role=role\n",
    ")"
   ]
  },
  {
   "cell_type": "code",
   "execution_count": 5,
   "metadata": {},
   "outputs": [
    {
     "name": "stdout",
     "output_type": "stream",
     "text": [
      "Starting endpoint deployment...\n",
      "-----------!"
     ]
    }
   ],
   "source": [
    "# 배포 코드와 함께 사용\n",
    "try:\n",
    "    print(\"Starting endpoint deployment...\")\n",
    "    predictor = model.deploy(\n",
    "        instance_type='ml.r5.large',\n",
    "        initial_instance_count=1,\n",
    "        endpoint_name='oft-6'\n",
    "    )\n",
    "    \n",
    "except Exception as e:\n",
    "    print(f\"Deployment failed: {str(e)}\")"
   ]
  },
  {
   "cell_type": "code",
   "execution_count": 6,
   "metadata": {},
   "outputs": [],
   "source": [
    "test_data = {\n",
    "    \"clothes\": [\n",
    "        {\n",
    "            \"id\" : \"top1\",\n",
    "            \"name\" : \"아이보리 케이블 후드 집업 니트\",\n",
    "            \"url\" : \"https://image.msscdn.net/thumbnails/images/goods_img/20231019/3640947/3640947_17170490498222_big.jpg?w=1200\",\n",
    "            \"type\" : \"상의\"\n",
    "        },\n",
    "        {\n",
    "            \"id\" : \"bottom1\",\n",
    "            \"name\" : \"빈티지 캣워싱 와이드 데님 청바지\",\n",
    "            \"url\" : \"https://image.msscdn.net/thumbnails/images/prd_img/20240725/4274045/detail_4274045_17248283394478_big.jpg?w=1200\",\n",
    "            \"type\" : \"하의\"\n",
    "        }\n",
    "    ],\n",
    "    \"excludes\": [],\n",
    "    \"style\": \"데이트\"\n",
    "}\n"
   ]
  },
  {
   "cell_type": "code",
   "execution_count": null,
   "metadata": {},
   "outputs": [
    {
     "name": "stdout",
     "output_type": "stream",
     "text": [
      "예측 시작\n",
      "성공적으로 예측이 완료되었습니다.\n",
      "예측 결과: {'statusCode': 200, 'body': ['top1', 'bottom1', 0.9974331259727478]}\n"
     ]
    }
   ],
   "source": [
    "\n",
    "def test_endpoint(endpoint_name, test_data):\n",
    "    try:\n",
    "        runtime_client = boto3.client('sagemaker-runtime')\n",
    "        print('예측 시작')\n",
    "        \n",
    "        response = runtime_client.invoke_endpoint(\n",
    "            EndpointName=endpoint_name,\n",
    "            ContentType='application/json',\n",
    "            Body=json.dumps(test_data)\n",
    "        )\n",
    "        \n",
    "        result = json.loads(response['Body'].read().decode())\n",
    "        print(\"성공적으로 예측이 완료되었습니다.\")\n",
    "        print(\"예측 결과:\", result)\n",
    "        return result\n",
    "        \n",
    "    except ClientError as e:\n",
    "        if e.response['Error']['Code'] == 'ValidationError':\n",
    "            print(\"엔드포인트 이름이 잘못되었습니다.\")\n",
    "        elif e.response['Error']['Code'] == 'ModelError':\n",
    "            print(\"모델 실행 중 오류가 발생했습니다.\")\n",
    "        else:\n",
    "            print(\"예상치 못한 오류가 발생했습니다:\", e)\n",
    "        return None\n",
    "    except Exception as e:\n",
    "        print(\"오류 발생:\", str(e))\n",
    "        return None\n",
    "\n",
    "\n",
    "result = test_endpoint('oft-6', test_data)"
   ]
  },
  {
   "cell_type": "code",
   "execution_count": null,
   "metadata": {},
   "outputs": [
    {
     "data": {
      "text/plain": [
       "{'ResponseMetadata': {'RequestId': 'aa354ecb-1cda-418c-a986-72791cddb9ff',\n",
       "  'HTTPStatusCode': 200,\n",
       "  'HTTPHeaders': {'x-amzn-requestid': 'aa354ecb-1cda-418c-a986-72791cddb9ff',\n",
       "   'content-type': 'application/x-amz-json-1.1',\n",
       "   'date': 'Sun, 10 Nov 2024 12:08:38 GMT',\n",
       "   'content-length': '0'},\n",
       "  'RetryAttempts': 0}}"
      ]
     },
     "execution_count": 19,
     "metadata": {},
     "output_type": "execute_result"
    }
   ],
   "source": [
    "# endpoint 삭제\n",
    "sagemaker_client = boto3.client('sagemaker', region_name='ap-northeast-2')\n",
    "\n",
    "sagemaker_client.delete_endpoint_config(\n",
    "    EndpointConfigName='oft-1'\n",
    ")"
   ]
  },
  {
   "cell_type": "code",
   "execution_count": null,
   "metadata": {},
   "outputs": [],
   "source": []
  }
 ],
 "metadata": {
  "kernelspec": {
   "display_name": "outfittransformer",
   "language": "python",
   "name": "python3"
  },
  "language_info": {
   "codemirror_mode": {
    "name": "ipython",
    "version": 3
   },
   "file_extension": ".py",
   "mimetype": "text/x-python",
   "name": "python",
   "nbconvert_exporter": "python",
   "pygments_lexer": "ipython3",
   "version": "3.9.16"
  }
 },
 "nbformat": 4,
 "nbformat_minor": 2
}
